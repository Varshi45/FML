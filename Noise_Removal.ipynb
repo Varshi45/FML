{
  "nbformat": 4,
  "nbformat_minor": 0,
  "metadata": {
    "colab": {
      "provenance": [],
      "authorship_tag": "ABX9TyP7a9rRkLuTC9JW8mMDEYDn",
      "include_colab_link": true
    },
    "kernelspec": {
      "name": "python3",
      "display_name": "Python 3"
    },
    "language_info": {
      "name": "python"
    }
  },
  "cells": [
    {
      "cell_type": "markdown",
      "metadata": {
        "id": "view-in-github",
        "colab_type": "text"
      },
      "source": [
        "<a href=\"https://colab.research.google.com/github/Varshi45/FML/blob/main/Noise_Removal.ipynb\" target=\"_parent\"><img src=\"https://colab.research.google.com/assets/colab-badge.svg\" alt=\"Open In Colab\"/></a>"
      ]
    },
    {
      "cell_type": "code",
      "execution_count": 17,
      "metadata": {
        "colab": {
          "base_uri": "https://localhost:8080/"
        },
        "id": "ac8n9_eGtgqr",
        "outputId": "4670b85f-970a-402c-c19f-1cc048137ba4"
      },
      "outputs": [
        {
          "output_type": "stream",
          "name": "stderr",
          "text": [
            "[nltk_data] Downloading package punkt to /root/nltk_data...\n",
            "[nltk_data]   Unzipping tokenizers/punkt.zip.\n"
          ]
        },
        {
          "output_type": "execute_result",
          "data": {
            "text/plain": [
              "True"
            ]
          },
          "metadata": {},
          "execution_count": 17
        }
      ],
      "source": [
        "import nltk\n",
        "from nltk.corpus import stopwords\n",
        "\n",
        "from nltk.corpus import stopwords\n",
        "from nltk.tokenize import word_tokenize\n",
        "\n",
        "nltk.download('punkt')"
      ]
    },
    {
      "cell_type": "code",
      "source": [
        "print(stopwords.words('english'))"
      ],
      "metadata": {
        "colab": {
          "base_uri": "https://localhost:8080/"
        },
        "id": "NY2Ukh1SvTRO",
        "outputId": "0768613b-93f9-40dd-e6f1-ad1f2e200c50"
      },
      "execution_count": 18,
      "outputs": [
        {
          "output_type": "stream",
          "name": "stdout",
          "text": [
            "['i', 'me', 'my', 'myself', 'we', 'our', 'ours', 'ourselves', 'you', \"you're\", \"you've\", \"you'll\", \"you'd\", 'your', 'yours', 'yourself', 'yourselves', 'he', 'him', 'his', 'himself', 'she', \"she's\", 'her', 'hers', 'herself', 'it', \"it's\", 'its', 'itself', 'they', 'them', 'their', 'theirs', 'themselves', 'what', 'which', 'who', 'whom', 'this', 'that', \"that'll\", 'these', 'those', 'am', 'is', 'are', 'was', 'were', 'be', 'been', 'being', 'have', 'has', 'had', 'having', 'do', 'does', 'did', 'doing', 'a', 'an', 'the', 'and', 'but', 'if', 'or', 'because', 'as', 'until', 'while', 'of', 'at', 'by', 'for', 'with', 'about', 'against', 'between', 'into', 'through', 'during', 'before', 'after', 'above', 'below', 'to', 'from', 'up', 'down', 'in', 'out', 'on', 'off', 'over', 'under', 'again', 'further', 'then', 'once', 'here', 'there', 'when', 'where', 'why', 'how', 'all', 'any', 'both', 'each', 'few', 'more', 'most', 'other', 'some', 'such', 'no', 'nor', 'not', 'only', 'own', 'same', 'so', 'than', 'too', 'very', 's', 't', 'can', 'will', 'just', 'don', \"don't\", 'should', \"should've\", 'now', 'd', 'll', 'm', 'o', 're', 've', 'y', 'ain', 'aren', \"aren't\", 'couldn', \"couldn't\", 'didn', \"didn't\", 'doesn', \"doesn't\", 'hadn', \"hadn't\", 'hasn', \"hasn't\", 'haven', \"haven't\", 'isn', \"isn't\", 'ma', 'mightn', \"mightn't\", 'mustn', \"mustn't\", 'needn', \"needn't\", 'shan', \"shan't\", 'shouldn', \"shouldn't\", 'wasn', \"wasn't\", 'weren', \"weren't\", 'won', \"won't\", 'wouldn', \"wouldn't\"]\n"
          ]
        }
      ]
    },
    {
      "cell_type": "code",
      "source": [
        "example = \"\"\"Machine learning (ML) is a field devoted to understanding and building methods that let machines \\\"learn\\\" – that is, methods that leverage data to improve computer performance on some set of tasks.[1]Machine learning algorithms build a model based on sample data, known as training data, in order to make predictions or decisions without being explicitly programmed to do so.[2] Machine learning algorithms are used in a wide variety of applications, such as in medicine, email filtering, speech recognition, agriculture, and computer vision, where it is difficult or unfeasible to develop conventional algorithms to perform the needed tasks.[3][4]\"\"\""
      ],
      "metadata": {
        "id": "3gQ3K7DfvmUd"
      },
      "execution_count": 19,
      "outputs": []
    },
    {
      "cell_type": "code",
      "source": [
        "stopwords = set(stopwords.words('english'))\n",
        "\n",
        "wordtokens = word_tokenize(example)"
      ],
      "metadata": {
        "id": "GjLpweT5w5T_"
      },
      "execution_count": 20,
      "outputs": []
    },
    {
      "cell_type": "code",
      "source": [
        "wordtokens"
      ],
      "metadata": {
        "colab": {
          "base_uri": "https://localhost:8080/"
        },
        "id": "VsNIqQh3xQSs",
        "outputId": "1b3c17b6-3bd1-4af0-97c3-d52cff7e8dc6"
      },
      "execution_count": 22,
      "outputs": [
        {
          "output_type": "execute_result",
          "data": {
            "text/plain": [
              "['Machine',\n",
              " 'learning',\n",
              " '(',\n",
              " 'ML',\n",
              " ')',\n",
              " 'is',\n",
              " 'a',\n",
              " 'field',\n",
              " 'devoted',\n",
              " 'to',\n",
              " 'understanding',\n",
              " 'and',\n",
              " 'building',\n",
              " 'methods',\n",
              " 'that',\n",
              " 'let',\n",
              " 'machines',\n",
              " '``',\n",
              " 'learn',\n",
              " \"''\",\n",
              " '–',\n",
              " 'that',\n",
              " 'is',\n",
              " ',',\n",
              " 'methods',\n",
              " 'that',\n",
              " 'leverage',\n",
              " 'data',\n",
              " 'to',\n",
              " 'improve',\n",
              " 'computer',\n",
              " 'performance',\n",
              " 'on',\n",
              " 'some',\n",
              " 'set',\n",
              " 'of',\n",
              " 'tasks',\n",
              " '.',\n",
              " '[',\n",
              " '1',\n",
              " ']',\n",
              " 'Machine',\n",
              " 'learning',\n",
              " 'algorithms',\n",
              " 'build',\n",
              " 'a',\n",
              " 'model',\n",
              " 'based',\n",
              " 'on',\n",
              " 'sample',\n",
              " 'data',\n",
              " ',',\n",
              " 'known',\n",
              " 'as',\n",
              " 'training',\n",
              " 'data',\n",
              " ',',\n",
              " 'in',\n",
              " 'order',\n",
              " 'to',\n",
              " 'make',\n",
              " 'predictions',\n",
              " 'or',\n",
              " 'decisions',\n",
              " 'without',\n",
              " 'being',\n",
              " 'explicitly',\n",
              " 'programmed',\n",
              " 'to',\n",
              " 'do',\n",
              " 'so',\n",
              " '.',\n",
              " '[',\n",
              " '2',\n",
              " ']',\n",
              " 'Machine',\n",
              " 'learning',\n",
              " 'algorithms',\n",
              " 'are',\n",
              " 'used',\n",
              " 'in',\n",
              " 'a',\n",
              " 'wide',\n",
              " 'variety',\n",
              " 'of',\n",
              " 'applications',\n",
              " ',',\n",
              " 'such',\n",
              " 'as',\n",
              " 'in',\n",
              " 'medicine',\n",
              " ',',\n",
              " 'email',\n",
              " 'filtering',\n",
              " ',',\n",
              " 'speech',\n",
              " 'recognition',\n",
              " ',',\n",
              " 'agriculture',\n",
              " ',',\n",
              " 'and',\n",
              " 'computer',\n",
              " 'vision',\n",
              " ',',\n",
              " 'where',\n",
              " 'it',\n",
              " 'is',\n",
              " 'difficult',\n",
              " 'or',\n",
              " 'unfeasible',\n",
              " 'to',\n",
              " 'develop',\n",
              " 'conventional',\n",
              " 'algorithms',\n",
              " 'to',\n",
              " 'perform',\n",
              " 'the',\n",
              " 'needed',\n",
              " 'tasks',\n",
              " '.',\n",
              " '[',\n",
              " '3',\n",
              " ']',\n",
              " '[',\n",
              " '4',\n",
              " ']']"
            ]
          },
          "metadata": {},
          "execution_count": 22
        }
      ]
    },
    {
      "cell_type": "code",
      "source": [
        "filtered = []\n",
        "for w in wordtokens :\n",
        "  if (w not in stopwords) & (w.isalpha()):\n",
        "    filtered.append(w)\n",
        "\n",
        "filtered"
      ],
      "metadata": {
        "colab": {
          "base_uri": "https://localhost:8080/"
        },
        "id": "IDbZX_PrxrhF",
        "outputId": "dcaec057-0b93-4b9a-e0af-2013c5469cb3"
      },
      "execution_count": 25,
      "outputs": [
        {
          "output_type": "execute_result",
          "data": {
            "text/plain": [
              "['Machine',\n",
              " 'learning',\n",
              " 'ML',\n",
              " 'field',\n",
              " 'devoted',\n",
              " 'understanding',\n",
              " 'building',\n",
              " 'methods',\n",
              " 'let',\n",
              " 'machines',\n",
              " 'learn',\n",
              " 'methods',\n",
              " 'leverage',\n",
              " 'data',\n",
              " 'improve',\n",
              " 'computer',\n",
              " 'performance',\n",
              " 'set',\n",
              " 'tasks',\n",
              " 'Machine',\n",
              " 'learning',\n",
              " 'algorithms',\n",
              " 'build',\n",
              " 'model',\n",
              " 'based',\n",
              " 'sample',\n",
              " 'data',\n",
              " 'known',\n",
              " 'training',\n",
              " 'data',\n",
              " 'order',\n",
              " 'make',\n",
              " 'predictions',\n",
              " 'decisions',\n",
              " 'without',\n",
              " 'explicitly',\n",
              " 'programmed',\n",
              " 'Machine',\n",
              " 'learning',\n",
              " 'algorithms',\n",
              " 'used',\n",
              " 'wide',\n",
              " 'variety',\n",
              " 'applications',\n",
              " 'medicine',\n",
              " 'email',\n",
              " 'filtering',\n",
              " 'speech',\n",
              " 'recognition',\n",
              " 'agriculture',\n",
              " 'computer',\n",
              " 'vision',\n",
              " 'difficult',\n",
              " 'unfeasible',\n",
              " 'develop',\n",
              " 'conventional',\n",
              " 'algorithms',\n",
              " 'perform',\n",
              " 'needed',\n",
              " 'tasks']"
            ]
          },
          "metadata": {},
          "execution_count": 25
        }
      ]
    },
    {
      "cell_type": "code",
      "source": [],
      "metadata": {
        "id": "r5qkZvUzyGWg"
      },
      "execution_count": null,
      "outputs": []
    }
  ]
}