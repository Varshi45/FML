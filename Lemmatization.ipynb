{
  "nbformat": 4,
  "nbformat_minor": 0,
  "metadata": {
    "colab": {
      "provenance": [],
      "authorship_tag": "ABX9TyOSXrfiiHe2VLiWYTyTQHSb",
      "include_colab_link": true
    },
    "kernelspec": {
      "name": "python3",
      "display_name": "Python 3"
    },
    "language_info": {
      "name": "python"
    }
  },
  "cells": [
    {
      "cell_type": "markdown",
      "metadata": {
        "id": "view-in-github",
        "colab_type": "text"
      },
      "source": [
        "<a href=\"https://colab.research.google.com/github/Varshi45/FML/blob/main/Lemmatization.ipynb\" target=\"_parent\"><img src=\"https://colab.research.google.com/assets/colab-badge.svg\" alt=\"Open In Colab\"/></a>"
      ]
    },
    {
      "cell_type": "code",
      "execution_count": 12,
      "metadata": {
        "colab": {
          "base_uri": "https://localhost:8080/"
        },
        "id": "dn1xvrNfEoZh",
        "outputId": "058f8a15-9b85-45b6-d8f7-fec083382500"
      },
      "outputs": [
        {
          "output_type": "stream",
          "name": "stderr",
          "text": [
            "[nltk_data] Downloading package punkt to /root/nltk_data...\n",
            "[nltk_data]   Package punkt is already up-to-date!\n",
            "[nltk_data] Downloading package wordnet to /root/nltk_data...\n"
          ]
        }
      ],
      "source": [
        "import nltk\n",
        "nltk.download('punkt')\n",
        "nltk.download('wordnet')\n",
        "\n",
        "from nltk.stem import WordNetLemmatizer\n",
        "lematizer = WordNetLemmatizer()"
      ]
    },
    {
      "cell_type": "code",
      "source": [
        "text = \"\"\"By the early 1960s an experimental \"learning machine\" with punched tape memory, called CyberTron, had been developed by Raytheon Company to analyze sonar signals, electrocardiograms, and speech patterns using rudimentary reinforcement learning. It was repetitively \"trained\" by a human operator/teacher to recognize patterns and equipped with a \"goof\" button to cause it to re-evaluate incorrect decisions.[16] A representative book on research into machine learning during the 1960s was Nilsson's book on Learning Machines, dealing mostly with machine learning for pattern classification.[17] Interest related to pattern recognition continued into the 1970s, as described by Duda and Hart in 1973.[18] In 1981 a report was given on using teaching strategies so that a neural network learns to recognize 40 characters (26 letters, 10 digits, and 4 special symbols) from a computer terminal.[19]\"\"\""
      ],
      "metadata": {
        "id": "2uUar_HQGNk5"
      },
      "execution_count": 13,
      "outputs": []
    },
    {
      "cell_type": "code",
      "source": [
        "tokens = nltk.word_tokenize(text)\n",
        "print(tokens)"
      ],
      "metadata": {
        "colab": {
          "base_uri": "https://localhost:8080/"
        },
        "id": "rgReuwUEGY_7",
        "outputId": "fbeb7d2d-4839-4bff-bbe0-95eecb2e40b4"
      },
      "execution_count": 14,
      "outputs": [
        {
          "output_type": "stream",
          "name": "stdout",
          "text": [
            "['By', 'the', 'early', '1960s', 'an', 'experimental', '``', 'learning', 'machine', \"''\", 'with', 'punched', 'tape', 'memory', ',', 'called', 'CyberTron', ',', 'had', 'been', 'developed', 'by', 'Raytheon', 'Company', 'to', 'analyze', 'sonar', 'signals', ',', 'electrocardiograms', ',', 'and', 'speech', 'patterns', 'using', 'rudimentary', 'reinforcement', 'learning', '.', 'It', 'was', 'repetitively', '``', 'trained', \"''\", 'by', 'a', 'human', 'operator/teacher', 'to', 'recognize', 'patterns', 'and', 'equipped', 'with', 'a', '``', 'goof', \"''\", 'button', 'to', 'cause', 'it', 'to', 're-evaluate', 'incorrect', 'decisions', '.', '[', '16', ']', 'A', 'representative', 'book', 'on', 'research', 'into', 'machine', 'learning', 'during', 'the', '1960s', 'was', 'Nilsson', \"'s\", 'book', 'on', 'Learning', 'Machines', ',', 'dealing', 'mostly', 'with', 'machine', 'learning', 'for', 'pattern', 'classification', '.', '[', '17', ']', 'Interest', 'related', 'to', 'pattern', 'recognition', 'continued', 'into', 'the', '1970s', ',', 'as', 'described', 'by', 'Duda', 'and', 'Hart', 'in', '1973', '.', '[', '18', ']', 'In', '1981', 'a', 'report', 'was', 'given', 'on', 'using', 'teaching', 'strategies', 'so', 'that', 'a', 'neural', 'network', 'learns', 'to', 'recognize', '40', 'characters', '(', '26', 'letters', ',', '10', 'digits', ',', 'and', '4', 'special', 'symbols', ')', 'from', 'a', 'computer', 'terminal', '.', '[', '19', ']']\n"
          ]
        }
      ]
    },
    {
      "cell_type": "code",
      "source": [
        "lemmatized = []\n",
        "for w in tokens :\n",
        "  lemmatized.append(lematizer.lemmatize(w))\n",
        "  lemmatized.append(\" \")\n",
        "\n",
        "print(\"After Lemmatization : \",''.join(lemmatized))"
      ],
      "metadata": {
        "colab": {
          "base_uri": "https://localhost:8080/"
        },
        "id": "yd3JOgGgGz4G",
        "outputId": "58e7122f-5eac-48d9-a904-72b9447c1c7e"
      },
      "execution_count": 15,
      "outputs": [
        {
          "output_type": "stream",
          "name": "stdout",
          "text": [
            "After Lemmatization :  By the early 1960s an experimental `` learning machine '' with punched tape memory , called CyberTron , had been developed by Raytheon Company to analyze sonar signal , electrocardiogram , and speech pattern using rudimentary reinforcement learning . It wa repetitively `` trained '' by a human operator/teacher to recognize pattern and equipped with a `` goof '' button to cause it to re-evaluate incorrect decision . [ 16 ] A representative book on research into machine learning during the 1960s wa Nilsson 's book on Learning Machines , dealing mostly with machine learning for pattern classification . [ 17 ] Interest related to pattern recognition continued into the 1970s , a described by Duda and Hart in 1973 . [ 18 ] In 1981 a report wa given on using teaching strategy so that a neural network learns to recognize 40 character ( 26 letter , 10 digit , and 4 special symbol ) from a computer terminal . [ 19 ] \n"
          ]
        }
      ]
    },
    {
      "cell_type": "code",
      "source": [],
      "metadata": {
        "id": "rd6LOo_HHbvw"
      },
      "execution_count": null,
      "outputs": []
    }
  ]
}